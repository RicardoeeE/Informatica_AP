{
 "cells": [
  {
   "cell_type": "markdown",
   "metadata": {},
   "source": [
    "<div style=\"margin-bottom: 120px;\">\n",
    "    <div style=\"float:left;\">\n",
    "        <br/>\n",
    "        <img src=\"notebooks-img/udc.png\" width=\"300\"/>\n",
    "    </div>\n",
    "</div>\n",
    "\n",
    "\n",
    "<h1 style=\"color: #d60e8c; text-align:center;\">Semana 9: Repaso secuencias</h1> \n"
   ]
  },
  {
   "cell_type": "markdown",
   "metadata": {},
   "source": [
    "\n",
    "<h2 style=\"color: #d60e8c;\">Ejemplos con listas</h2>\n",
    "<hr style=\"border: 0.5px solid #d60e8c;\">\n"
   ]
  },
  {
   "cell_type": "markdown",
   "metadata": {},
   "source": [
    "<br>\n",
    "<h3 style=\"color: #d60e8c;\">Leer por teclado los elementos de una lista</h3>\n"
   ]
  },
  {
   "cell_type": "markdown",
   "metadata": {},
   "source": [
    "Leer los elementos de la lista (en este caso, números enteros) pidiendo al usuario el número de elementos y leyéndolos de uno en uno:"
   ]
  },
  {
   "cell_type": "code",
   "execution_count": null,
   "metadata": {},
   "outputs": [],
   "source": [
    "numero_elementos = int(input(\"Introduzca el número de elementos: \"))\n",
    "\n",
    "lista_numeros = []\n",
    "for i in range(numero_elementos):\n",
    "    valor = int(input(f\"Introduzca el elemento {i}: \")) \n",
    "    lista_numeros.append(valor)\n",
    "\n",
    "print(lista_numeros)  \n"
   ]
  },
  {
   "cell_type": "markdown",
   "metadata": {},
   "source": [
    "Leer los elementos de una lista (en este caso números float) pidiendo al usuario el número de elementos y pudiendo leer varios a la vez de una línea que introduce el usuario:"
   ]
  },
  {
   "cell_type": "code",
   "execution_count": 6,
   "metadata": {},
   "outputs": [
    {
     "name": "stdout",
     "output_type": "stream",
     "text": [
      "[1.0, 2.0, 3.0, 4.0, 5.0]\n"
     ]
    }
   ],
   "source": [
    "num_elementos = int(input(\"Introduzca el número de elementos: \"))\n",
    "\n",
    "lista = []\n",
    "posicion = 0\n",
    "while posicion < num_elementos:\n",
    "    datos_leidos = input() # Recordad que input puede no llevar un mensaje y espera igual a que el usuario introduzca un valor y pulse \"enter\"\n",
    "    lista_valores_leidos = datos_leidos.split() # Convertimos los datos leídos por el usuario en una lista (separa por los espacios - ver \"split\" en notebook semana 8)\n",
    "    for i in lista_valores_leidos:  # Recorremos los valores de la lista  \n",
    "        num = float(i)  # Los convertimos a float porque hasta ahora eran una cadena de caracteres\n",
    "        lista.append(num) # Los añadirmos a la lista\n",
    "        posicion = posicion + 1 # incrementemos en 1 la posición para saber cuandos elementos hemos introducido hasta ahora en la lista\n",
    "print(lista)"
   ]
  },
  {
   "cell_type": "markdown",
   "metadata": {},
   "source": [
    "En el ejemplo anterior si el usuario introduce en una línea más elementos del tamaño solicitado de la lista, se añaden igual a la lista, esto se puede mejorar añadiendo una condición antes de añadir el elemento:"
   ]
  },
  {
   "cell_type": "code",
   "execution_count": 5,
   "metadata": {},
   "outputs": [
    {
     "name": "stdout",
     "output_type": "stream",
     "text": [
      "[1.0, 2.0, 3.0, 4.0]\n"
     ]
    }
   ],
   "source": [
    "num_elementos = int(input(\"Introduzca el número de elementos: \"))\n",
    "\n",
    "lista = []\n",
    "posicion = 0\n",
    "while posicion < num_elementos:\n",
    "    datos_leidos = input() \n",
    "    lista_valores_leidos = datos_leidos.split() \n",
    "    for i in lista_valores_leidos:  \n",
    "        num = float(i)  \n",
    "        if posicion < num_elementos: # Comprobamos que no se ha sobrepasado el tamaño deseado de la lista. Esto es neceario porque el tamaño sólo se comprueba en un bucle exterior\n",
    "            lista.append(num) \n",
    "            posicion = posicion + 1\n",
    "print(lista)"
   ]
  },
  {
   "cell_type": "markdown",
   "metadata": {},
   "source": [
    "Leer todos los elementos de una línea que introduce el usuario sin conocer previamente la cantidad de número que va a introducir:"
   ]
  },
  {
   "cell_type": "code",
   "execution_count": 7,
   "metadata": {},
   "outputs": [
    {
     "name": "stdout",
     "output_type": "stream",
     "text": [
      "['1', '2', '3', '4', '5', '6']\n",
      "[1.0, 2.0, 3.0, 4.0, 5.0, 6.0]\n"
     ]
    }
   ],
   "source": [
    "lista_final = []\n",
    "\n",
    "varios_valores = input(\"Introduzca varios números separados por espacios: \") \n",
    "\n",
    "lista_valores = varios_valores.split()\n",
    "\n",
    "print(lista_valores)\n",
    "\n",
    "for j in lista_valores:\n",
    "    num = float(j)\n",
    "    lista_final.append(num)\n",
    "\n",
    "print(lista_final)"
   ]
  },
  {
   "cell_type": "markdown",
   "metadata": {},
   "source": [
    "<br>\n",
    "<h3 style=\"color: #d60e8c;\">Recorrer una lista</h3>\n",
    "Se puede recorrer una lista de muchas formas. Partiendo de la lista siguiente, se muestran varias formas de recorrerla:"
   ]
  },
  {
   "cell_type": "code",
   "execution_count": 2,
   "metadata": {},
   "outputs": [],
   "source": [
    "lista_ejemplo = [3, 44, 6, 2, 12]"
   ]
  },
  {
   "cell_type": "markdown",
   "metadata": {},
   "source": [
    "Forma 1: Recorrer todos los elementos con for cuando:\n",
    "- Se necesitan los valores que forman la lista (en este ejemplo: 3, 44, 6, 2, 12)\n",
    "- No se necesitan los índices (posiciones) de los elementos en la lista (en este ejemplo: 0, 1, 2, 3 ,4)"
   ]
  },
  {
   "cell_type": "code",
   "execution_count": null,
   "metadata": {},
   "outputs": [],
   "source": [
    "for elemento in lista_ejemplo:\n",
    "    print(elemento, end=\" \")"
   ]
  },
  {
   "cell_type": "markdown",
   "metadata": {},
   "source": [
    "Forma 3: Otra forma de recorrer todos los elementos con for cuando se necesitan los valores y los índices"
   ]
  },
  {
   "cell_type": "code",
   "execution_count": 3,
   "metadata": {},
   "outputs": [
    {
     "name": "stdout",
     "output_type": "stream",
     "text": [
      "Posición: 0, valor: 3\n",
      "Posición: 1, valor: 44\n",
      "Posición: 2, valor: 6\n",
      "Posición: 3, valor: 2\n",
      "Posición: 4, valor: 12\n"
     ]
    }
   ],
   "source": [
    "for posicion in range(len(lista_ejemplo)):\n",
    "    print(f\"Posición: {posicion}, valor: {lista_ejemplo[posicion]}\")"
   ]
  },
  {
   "cell_type": "markdown",
   "metadata": {},
   "source": [
    "Forma 3: Recorrer todos los elementos con for cuando se necesitan los valores y los índices"
   ]
  },
  {
   "cell_type": "code",
   "execution_count": null,
   "metadata": {},
   "outputs": [],
   "source": [
    "for posicion, valor in enumerate(lista_ejemplo):\n",
    "    print(\"Posición\", posicion, \", valor: \", valor)"
   ]
  },
  {
   "cell_type": "markdown",
   "metadata": {},
   "source": [
    "Forma 4: Recorrer todos los elementos con while. En este caso, el contador del bucle (la variable \"posicion\" en el ejemplo) es la posición de los elementos en la lista y es necesaria para poder hacer el bucle while."
   ]
  },
  {
   "cell_type": "code",
   "execution_count": null,
   "metadata": {},
   "outputs": [],
   "source": [
    "posicion = 0\n",
    "while posicion < len(lista_ejemplo):\n",
    "    print(f\"Posición: {posicion}, valor: {lista_ejemplo[posicion]}\")\n",
    "    posicion = posicion+1\n",
    " "
   ]
  },
  {
   "cell_type": "markdown",
   "metadata": {},
   "source": [
    "\n",
    "<h2 style=\"color: #d60e8c;\">Repaso de conceptos de bucles</h2>\n",
    "<hr style=\"border: 0.5px solid #d60e8c;\">\n"
   ]
  },
  {
   "cell_type": "markdown",
   "metadata": {},
   "source": [
    "<h3 style=\"color: #d60e8c;\">Contar, sumar, multiplicar de forma incremental en un bucle</h3>\n",
    "\n",
    "\n",
    "Para poder realizar estas operaciones con un bucle, tenemos que **inicializar una variable antes del bucle** y dentro del bucle, incrementar su valor (la forma dependerá de la operación que tenemos que realizar). A continuación, varios ejemplos: "
   ]
  },
  {
   "cell_type": "markdown",
   "metadata": {},
   "source": [
    "Sumar todos los elementos de una lista en un bucle:"
   ]
  },
  {
   "cell_type": "code",
   "execution_count": 1,
   "metadata": {},
   "outputs": [
    {
     "name": "stdout",
     "output_type": "stream",
     "text": [
      "Valor inicial de suma: 0\n",
      "\n",
      "Suma después de sumar el elemento 1: 1\n",
      "Suma después de sumar el elemento 2: 3\n",
      "Suma después de sumar el elemento 3: 6\n",
      "Suma después de sumar el elemento 4: 10\n",
      "Suma después de sumar el elemento 5: 15\n",
      "\n",
      "Valor final de suma: 15\n"
     ]
    }
   ],
   "source": [
    "lista = [1,2,3,4,5]\n",
    "suma = 0\n",
    "print(f\"Valor inicial de suma: {suma}\")\n",
    "print() \n",
    "for elemento in lista:\n",
    "    suma = suma + elemento\n",
    "    print(f\"Suma después de sumar el elemento {elemento}: {suma}\")     \n",
    "print() \n",
    "print(f\"Valor final de suma: {suma}\")"
   ]
  },
  {
   "cell_type": "markdown",
   "metadata": {},
   "source": [
    "Contar los elementos pares de una lista:"
   ]
  },
  {
   "cell_type": "code",
   "execution_count": 2,
   "metadata": {},
   "outputs": [
    {
     "name": "stdout",
     "output_type": "stream",
     "text": [
      "Valor inicial de pares: 0\n",
      "\n",
      " Valor de pares tras comprobar 2: 1\n",
      " Valor de pares tras comprobar 4: 2\n",
      "\n",
      "Valor final de pares: 2\n"
     ]
    }
   ],
   "source": [
    "pares = 0\n",
    "print(f\"Valor inicial de pares: {pares}\")\n",
    "print() \n",
    "for elemento in lista:\n",
    "    if elemento % 2 == 0:\n",
    "        pares = pares + 1\n",
    "        print(f\" Valor de pares tras comprobar {elemento}: {pares}\")     \n",
    "print() \n",
    "print(f\"Valor final de pares: {pares}\")"
   ]
  },
  {
   "cell_type": "markdown",
   "metadata": {},
   "source": [
    "<br/>\n",
    "<hr style=\"border: 0.5px solid #d60e8c;\">"
   ]
  },
  {
   "cell_type": "markdown",
   "metadata": {},
   "source": [
    "<div style=\"float:left;\">\n",
    "INFORMÁTICA\n",
    "</div>\n",
    "<div style=\"text-align:right;\">\n",
    "Grados en Ing. Mecánica e Ing. en Tecnologías Industriales\n",
    "</div>"
   ]
  }
 ],
 "metadata": {
  "interpreter": {
   "hash": "aee8b7b246df8f9039afb4144a1f6fd8d2ca17a180786b69acc140d282b71a49"
  },
  "kernelspec": {
   "display_name": "Python 3.9.7 64-bit",
   "name": "python3"
  },
  "language_info": {
   "codemirror_mode": {
    "name": "ipython",
    "version": 3
   },
   "file_extension": ".py",
   "mimetype": "text/x-python",
   "name": "python",
   "nbconvert_exporter": "python",
   "pygments_lexer": "ipython3",
   "version": "3.11.4"
  }
 },
 "nbformat": 4,
 "nbformat_minor": 4
}
